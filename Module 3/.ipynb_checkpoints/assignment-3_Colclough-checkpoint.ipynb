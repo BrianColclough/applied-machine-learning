{
 "cells": [
  {
   "cell_type": "markdown",
   "id": "8109c2fc",
   "metadata": {},
   "source": [
    "# Question 1\n",
    "\n",
    "- I think it’s important that our model learn a mapping from demographic and macroeconomic context to the risk of elevated suicide mortality for a specific segment defined by (country, year, sex, age group). We can ask the question: Given a country, year, sex, age bracket, estimate the probability that the suicide rate per 100k will be high versus low for that segment.\n",
    "- The dataset includes meaningful predictors (country, year, sex, age group, GDP per capita, generation). That’s enough to learn patterns tied to geography, time, and demographics.\n",
    "- Practically, this looks learnable: the features encode real structure (demographics, time, geography), and we can define “high” vs “low” using the dataset’s own distribution (e.g., a median or mean) to keep classes balanced. The caveat is nuance: results are correlational, HDI is often missing\n"
   ]
  },
  {
   "cell_type": "markdown",
   "id": "e51a5677",
   "metadata": {},
   "source": [
    "# Question 2\n",
    "This should be a binary classifier: predict high vs low suicide rate for a segment using demographics and context. Unsupervised tools are useful for data examination here. They help us see patterns first, then set up the classifier with clearer hypotheses.\n",
    "\n",
    "# Question 3\n",
    "I would define the target as a balanced, distribution-aware flag: high_risk = 1 if suicides per 100k population is greater than or equal to the global median, otherwise 0.\n",
    "\n",
    "# Question 4\n",
    "The primary features that served as predictors for my dependent variable were population, GDP per capita, and generation. The only features we needed to drop were:\n",
    "```python\n",
    "['suicides/100k pop', 'suicides_no', 'country-year', 'year', ' gdp_for_year ($)', 'age']\n",
    "```\n",
    "These were either derived or not useful for our classification task.\n",
    "\n",
    "For the features I kept I replaced any zero p-values with machine epsilon (as in the code). At a high level, the ranking showed:\n",
    "\n",
    "- population (strong signal)\n",
    "- gdp_per_capita (strong)\n",
    "- HDI for year (strong after imputing its median)\n",
    "- generation (moderate)\n",
    "- sex (smaller but consistent signal)\n",
    "- country -> one-hot encoded can capture regional effects\n",
    "\n",
    "# Question 5\n",
    "\n",
    "The prototype is a Random Forest classifier (n_estimators=200, max_depth=5, random_state=0). I evaluated it with 10-fold cross-validation that was provided in our module notebook.\n",
    "10-fold CV accuracy = 0.711 ± 0.0398 in my run. This gives us a an interpretable baseline that is robust and doesn't need feature scaling. The obvious next steps are hyperparameter tuning (depth, trees), adding class-calibrated probabilities, and comparing the results to a logistic-regression baseline to check linear separability."
   ]
  },
  {
   "cell_type": "code",
   "execution_count": 493,
   "id": "f4bed790",
   "metadata": {},
   "outputs": [
    {
     "name": "stdout",
     "output_type": "stream",
     "text": [
      "(27820, 12)\n"
     ]
    },
    {
     "data": {
      "text/html": [
       "<div>\n",
       "<style scoped>\n",
       "    .dataframe tbody tr th:only-of-type {\n",
       "        vertical-align: middle;\n",
       "    }\n",
       "\n",
       "    .dataframe tbody tr th {\n",
       "        vertical-align: top;\n",
       "    }\n",
       "\n",
       "    .dataframe thead th {\n",
       "        text-align: right;\n",
       "    }\n",
       "</style>\n",
       "<table border=\"1\" class=\"dataframe\">\n",
       "  <thead>\n",
       "    <tr style=\"text-align: right;\">\n",
       "      <th></th>\n",
       "      <th>country</th>\n",
       "      <th>year</th>\n",
       "      <th>sex</th>\n",
       "      <th>age</th>\n",
       "      <th>suicides_no</th>\n",
       "      <th>population</th>\n",
       "      <th>suicides/100k pop</th>\n",
       "      <th>country-year</th>\n",
       "      <th>HDI for year</th>\n",
       "      <th>gdp_for_year ($)</th>\n",
       "      <th>gdp_per_capita ($)</th>\n",
       "      <th>generation</th>\n",
       "    </tr>\n",
       "  </thead>\n",
       "  <tbody>\n",
       "    <tr>\n",
       "      <th>0</th>\n",
       "      <td>Albania</td>\n",
       "      <td>1987</td>\n",
       "      <td>male</td>\n",
       "      <td>15-24 years</td>\n",
       "      <td>21</td>\n",
       "      <td>312900</td>\n",
       "      <td>6.71</td>\n",
       "      <td>Albania1987</td>\n",
       "      <td>NaN</td>\n",
       "      <td>2,156,624,900</td>\n",
       "      <td>796</td>\n",
       "      <td>Generation X</td>\n",
       "    </tr>\n",
       "    <tr>\n",
       "      <th>1</th>\n",
       "      <td>Albania</td>\n",
       "      <td>1987</td>\n",
       "      <td>male</td>\n",
       "      <td>35-54 years</td>\n",
       "      <td>16</td>\n",
       "      <td>308000</td>\n",
       "      <td>5.19</td>\n",
       "      <td>Albania1987</td>\n",
       "      <td>NaN</td>\n",
       "      <td>2,156,624,900</td>\n",
       "      <td>796</td>\n",
       "      <td>Silent</td>\n",
       "    </tr>\n",
       "    <tr>\n",
       "      <th>2</th>\n",
       "      <td>Albania</td>\n",
       "      <td>1987</td>\n",
       "      <td>female</td>\n",
       "      <td>15-24 years</td>\n",
       "      <td>14</td>\n",
       "      <td>289700</td>\n",
       "      <td>4.83</td>\n",
       "      <td>Albania1987</td>\n",
       "      <td>NaN</td>\n",
       "      <td>2,156,624,900</td>\n",
       "      <td>796</td>\n",
       "      <td>Generation X</td>\n",
       "    </tr>\n",
       "    <tr>\n",
       "      <th>3</th>\n",
       "      <td>Albania</td>\n",
       "      <td>1987</td>\n",
       "      <td>male</td>\n",
       "      <td>75+ years</td>\n",
       "      <td>1</td>\n",
       "      <td>21800</td>\n",
       "      <td>4.59</td>\n",
       "      <td>Albania1987</td>\n",
       "      <td>NaN</td>\n",
       "      <td>2,156,624,900</td>\n",
       "      <td>796</td>\n",
       "      <td>G.I. Generation</td>\n",
       "    </tr>\n",
       "    <tr>\n",
       "      <th>4</th>\n",
       "      <td>Albania</td>\n",
       "      <td>1987</td>\n",
       "      <td>male</td>\n",
       "      <td>25-34 years</td>\n",
       "      <td>9</td>\n",
       "      <td>274300</td>\n",
       "      <td>3.28</td>\n",
       "      <td>Albania1987</td>\n",
       "      <td>NaN</td>\n",
       "      <td>2,156,624,900</td>\n",
       "      <td>796</td>\n",
       "      <td>Boomers</td>\n",
       "    </tr>\n",
       "  </tbody>\n",
       "</table>\n",
       "</div>"
      ],
      "text/plain": [
       "   country  year     sex          age  suicides_no  population  \\\n",
       "0  Albania  1987    male  15-24 years           21      312900   \n",
       "1  Albania  1987    male  35-54 years           16      308000   \n",
       "2  Albania  1987  female  15-24 years           14      289700   \n",
       "3  Albania  1987    male    75+ years            1       21800   \n",
       "4  Albania  1987    male  25-34 years            9      274300   \n",
       "\n",
       "   suicides/100k pop country-year  HDI for year  gdp_for_year ($)   \\\n",
       "0               6.71  Albania1987           NaN      2,156,624,900   \n",
       "1               5.19  Albania1987           NaN      2,156,624,900   \n",
       "2               4.83  Albania1987           NaN      2,156,624,900   \n",
       "3               4.59  Albania1987           NaN      2,156,624,900   \n",
       "4               3.28  Albania1987           NaN      2,156,624,900   \n",
       "\n",
       "   gdp_per_capita ($)       generation  \n",
       "0                 796     Generation X  \n",
       "1                 796           Silent  \n",
       "2                 796     Generation X  \n",
       "3                 796  G.I. Generation  \n",
       "4                 796          Boomers  "
      ]
     },
     "execution_count": 493,
     "metadata": {},
     "output_type": "execute_result"
    }
   ],
   "source": [
    "import pandas as pd\n",
    "import numpy as np\n",
    "import matplotlib.pyplot as plt\n",
    "import seaborn as sns\n",
    "\n",
    "# import sucide-rates dataset\n",
    "suicide_data = pd.read_csv('../datasets/suicide-rates.csv')\n",
    "print(suicide_data.shape)\n",
    "\n",
    "suicide_data.head()\n"
   ]
  },
  {
   "cell_type": "code",
   "execution_count": 494,
   "id": "808aa1e5",
   "metadata": {},
   "outputs": [
    {
     "data": {
      "text/html": [
       "<div>\n",
       "<style scoped>\n",
       "    .dataframe tbody tr th:only-of-type {\n",
       "        vertical-align: middle;\n",
       "    }\n",
       "\n",
       "    .dataframe tbody tr th {\n",
       "        vertical-align: top;\n",
       "    }\n",
       "\n",
       "    .dataframe thead th {\n",
       "        text-align: right;\n",
       "    }\n",
       "</style>\n",
       "<table border=\"1\" class=\"dataframe\">\n",
       "  <thead>\n",
       "    <tr style=\"text-align: right;\">\n",
       "      <th></th>\n",
       "      <th>year</th>\n",
       "      <th>suicides_no</th>\n",
       "      <th>population</th>\n",
       "      <th>suicides/100k pop</th>\n",
       "      <th>HDI for year</th>\n",
       "      <th>gdp_per_capita ($)</th>\n",
       "    </tr>\n",
       "  </thead>\n",
       "  <tbody>\n",
       "    <tr>\n",
       "      <th>count</th>\n",
       "      <td>27820.000000</td>\n",
       "      <td>27820.000000</td>\n",
       "      <td>2.782000e+04</td>\n",
       "      <td>27820.000000</td>\n",
       "      <td>8364.000000</td>\n",
       "      <td>27820.000000</td>\n",
       "    </tr>\n",
       "    <tr>\n",
       "      <th>mean</th>\n",
       "      <td>2001.258375</td>\n",
       "      <td>242.574407</td>\n",
       "      <td>1.844794e+06</td>\n",
       "      <td>12.816097</td>\n",
       "      <td>0.776601</td>\n",
       "      <td>16866.464414</td>\n",
       "    </tr>\n",
       "    <tr>\n",
       "      <th>std</th>\n",
       "      <td>8.469055</td>\n",
       "      <td>902.047917</td>\n",
       "      <td>3.911779e+06</td>\n",
       "      <td>18.961511</td>\n",
       "      <td>0.093367</td>\n",
       "      <td>18887.576472</td>\n",
       "    </tr>\n",
       "    <tr>\n",
       "      <th>min</th>\n",
       "      <td>1985.000000</td>\n",
       "      <td>0.000000</td>\n",
       "      <td>2.780000e+02</td>\n",
       "      <td>0.000000</td>\n",
       "      <td>0.483000</td>\n",
       "      <td>251.000000</td>\n",
       "    </tr>\n",
       "    <tr>\n",
       "      <th>25%</th>\n",
       "      <td>1995.000000</td>\n",
       "      <td>3.000000</td>\n",
       "      <td>9.749850e+04</td>\n",
       "      <td>0.920000</td>\n",
       "      <td>0.713000</td>\n",
       "      <td>3447.000000</td>\n",
       "    </tr>\n",
       "    <tr>\n",
       "      <th>50%</th>\n",
       "      <td>2002.000000</td>\n",
       "      <td>25.000000</td>\n",
       "      <td>4.301500e+05</td>\n",
       "      <td>5.990000</td>\n",
       "      <td>0.779000</td>\n",
       "      <td>9372.000000</td>\n",
       "    </tr>\n",
       "    <tr>\n",
       "      <th>75%</th>\n",
       "      <td>2008.000000</td>\n",
       "      <td>131.000000</td>\n",
       "      <td>1.486143e+06</td>\n",
       "      <td>16.620000</td>\n",
       "      <td>0.855000</td>\n",
       "      <td>24874.000000</td>\n",
       "    </tr>\n",
       "    <tr>\n",
       "      <th>max</th>\n",
       "      <td>2016.000000</td>\n",
       "      <td>22338.000000</td>\n",
       "      <td>4.380521e+07</td>\n",
       "      <td>224.970000</td>\n",
       "      <td>0.944000</td>\n",
       "      <td>126352.000000</td>\n",
       "    </tr>\n",
       "  </tbody>\n",
       "</table>\n",
       "</div>"
      ],
      "text/plain": [
       "               year   suicides_no    population  suicides/100k pop  \\\n",
       "count  27820.000000  27820.000000  2.782000e+04       27820.000000   \n",
       "mean    2001.258375    242.574407  1.844794e+06          12.816097   \n",
       "std        8.469055    902.047917  3.911779e+06          18.961511   \n",
       "min     1985.000000      0.000000  2.780000e+02           0.000000   \n",
       "25%     1995.000000      3.000000  9.749850e+04           0.920000   \n",
       "50%     2002.000000     25.000000  4.301500e+05           5.990000   \n",
       "75%     2008.000000    131.000000  1.486143e+06          16.620000   \n",
       "max     2016.000000  22338.000000  4.380521e+07         224.970000   \n",
       "\n",
       "       HDI for year  gdp_per_capita ($)  \n",
       "count   8364.000000        27820.000000  \n",
       "mean       0.776601        16866.464414  \n",
       "std        0.093367        18887.576472  \n",
       "min        0.483000          251.000000  \n",
       "25%        0.713000         3447.000000  \n",
       "50%        0.779000         9372.000000  \n",
       "75%        0.855000        24874.000000  \n",
       "max        0.944000       126352.000000  "
      ]
     },
     "execution_count": 494,
     "metadata": {},
     "output_type": "execute_result"
    }
   ],
   "source": [
    "suicide_data.describe()"
   ]
  },
  {
   "cell_type": "code",
   "execution_count": 495,
   "id": "6705f5d5",
   "metadata": {},
   "outputs": [
    {
     "name": "stdout",
     "output_type": "stream",
     "text": [
      "<class 'pandas.core.frame.DataFrame'>\n",
      "RangeIndex: 27820 entries, 0 to 27819\n",
      "Data columns (total 12 columns):\n",
      " #   Column              Non-Null Count  Dtype  \n",
      "---  ------              --------------  -----  \n",
      " 0   country             27820 non-null  object \n",
      " 1   year                27820 non-null  int64  \n",
      " 2   sex                 27820 non-null  object \n",
      " 3   age                 27820 non-null  object \n",
      " 4   suicides_no         27820 non-null  int64  \n",
      " 5   population          27820 non-null  int64  \n",
      " 6   suicides/100k pop   27820 non-null  float64\n",
      " 7   country-year        27820 non-null  object \n",
      " 8   HDI for year        8364 non-null   float64\n",
      " 9    gdp_for_year ($)   27820 non-null  object \n",
      " 10  gdp_per_capita ($)  27820 non-null  int64  \n",
      " 11  generation          27820 non-null  object \n",
      "dtypes: float64(2), int64(4), object(6)\n",
      "memory usage: 2.5+ MB\n"
     ]
    }
   ],
   "source": [
    "suicide_data.info()"
   ]
  },
  {
   "cell_type": "code",
   "execution_count": 496,
   "id": "d1e36741",
   "metadata": {},
   "outputs": [
    {
     "name": "stdout",
     "output_type": "stream",
     "text": [
      "Index(['country', 'year', 'sex', 'age', 'suicides_no', 'population',\n",
      "       'suicides/100k pop', 'country-year', 'HDI for year',\n",
      "       ' gdp_for_year ($) ', 'gdp_per_capita ($)', 'generation'],\n",
      "      dtype='object')\n"
     ]
    }
   ],
   "source": [
    "# print the column names\n",
    "print(suicide_data.columns)"
   ]
  },
  {
   "cell_type": "code",
   "execution_count": 534,
   "id": "3a776781",
   "metadata": {},
   "outputs": [
    {
     "data": {
      "image/png": "[encoded data removed]",
      "text/plain": [
       "<Figure size 640x480 with 1 Axes>"
      ]
     },
     "metadata": {},
     "output_type": "display_data"
    }
   ],
   "source": [
    "# histogram of suicides per 100k population\n",
    "plt.hist(suicide_data['suicides/100k pop'], bins=100)\n",
    "plt.title('Histogram of Suicides per 100k Population')\n",
    "plt.xlabel('Suicides per 100k Population')\n",
    "plt.ylabel('Frequency')\n",
    "plt.show()\n"
   ]
  },
  {
   "cell_type": "markdown",
   "id": "533bcfed",
   "metadata": {},
   "source": [
    "## Data preprocessing"
   ]
  },
  {
   "cell_type": "markdown",
   "id": "b3c3bf3a",
   "metadata": {},
   "source": [
    "### Check for Duplicates and Null values"
   ]
  },
  {
   "cell_type": "code",
   "execution_count": 497,
   "id": "1c2ee99e",
   "metadata": {},
   "outputs": [
    {
     "name": "stdout",
     "output_type": "stream",
     "text": [
      "country                   0\n",
      "year                      0\n",
      "sex                       0\n",
      "age                       0\n",
      "suicides_no               0\n",
      "population                0\n",
      "suicides/100k pop         0\n",
      "country-year              0\n",
      "HDI for year          19456\n",
      " gdp_for_year ($)         0\n",
      "gdp_per_capita ($)        0\n",
      "generation                0\n",
      "dtype: int64\n"
     ]
    }
   ],
   "source": [
    "# check for missing values\n",
    "print(suicide_data.isnull().sum())\n"
   ]
  },
  {
   "cell_type": "code",
   "execution_count": 498,
   "id": "977e5414",
   "metadata": {},
   "outputs": [
    {
     "name": "stdout",
     "output_type": "stream",
     "text": [
      "0\n"
     ]
    }
   ],
   "source": [
    "# check for duplicate rows\n",
    "print(suicide_data.duplicated().sum())"
   ]
  },
  {
   "cell_type": "markdown",
   "id": "09908f35",
   "metadata": {},
   "source": [
    "Seems like this HDI for year value has a large amount of missing data, I first need to figure out what this feature is:\n",
    "\n",
    "\n",
    "HDI is the Human Development Index and is a statistical composite index of life expectancy, education (mean years of schooling completed and expected years of schooling upon entering the education system), and per capita income indicators, which is used to rank countries into four tiers of human development.\n",
    "\n",
    "This seems like a valuable feature for what we are trying to measure, so we need to figure out how to handle missing values rather than dropping the feature altogether."
   ]
  },
  {
   "cell_type": "code",
   "execution_count": 499,
   "id": "90639ffb",
   "metadata": {},
   "outputs": [],
   "source": [
    "suicide_data['HDI for year'] = suicide_data['HDI for year'].fillna(suicide_data['HDI for year'].median())"
   ]
  },
  {
   "cell_type": "code",
   "execution_count": 500,
   "id": "c75d6118",
   "metadata": {},
   "outputs": [
    {
     "name": "stdout",
     "output_type": "stream",
     "text": [
      "<class 'pandas.core.frame.DataFrame'>\n",
      "RangeIndex: 27820 entries, 0 to 27819\n",
      "Data columns (total 12 columns):\n",
      " #   Column              Non-Null Count  Dtype  \n",
      "---  ------              --------------  -----  \n",
      " 0   country             27820 non-null  object \n",
      " 1   year                27820 non-null  int64  \n",
      " 2   sex                 27820 non-null  object \n",
      " 3   age                 27820 non-null  object \n",
      " 4   suicides_no         27820 non-null  int64  \n",
      " 5   population          27820 non-null  int64  \n",
      " 6   suicides/100k pop   27820 non-null  float64\n",
      " 7   country-year        27820 non-null  object \n",
      " 8   HDI for year        27820 non-null  float64\n",
      " 9    gdp_for_year ($)   27820 non-null  object \n",
      " 10  gdp_per_capita ($)  27820 non-null  int64  \n",
      " 11  generation          27820 non-null  object \n",
      "dtypes: float64(2), int64(4), object(6)\n",
      "memory usage: 2.5+ MB\n"
     ]
    }
   ],
   "source": [
    "suicide_data.info()"
   ]
  },
  {
   "cell_type": "markdown",
   "id": "45c25d41",
   "metadata": {},
   "source": [
    "## Add dependent variable\n",
    "\n",
    "Now we can add our dependent variable based on the suicides/100k pop feature"
   ]
  },
  {
   "cell_type": "code",
   "execution_count": 501,
   "id": "e370a64f",
   "metadata": {},
   "outputs": [
    {
     "name": "stdout",
     "output_type": "stream",
     "text": [
      "5.99\n",
      "12.81609741193386\n"
     ]
    }
   ],
   "source": [
    "print(suicide_data['suicides/100k pop'].median())\n",
    "print(suicide_data['suicides/100k pop'].mean())"
   ]
  },
  {
   "cell_type": "markdown",
   "id": "7e284d85",
   "metadata": {},
   "source": [
    "Mean is substasially higher, so first lets check for outliers in our data"
   ]
  },
  {
   "cell_type": "code",
   "execution_count": 502,
   "id": "59702bcf",
   "metadata": {},
   "outputs": [
    {
     "data": {
      "image/png": "[encoded data removed]",
      "text/plain": [
       "<Figure size 640x480 with 1 Axes>"
      ]
     },
     "metadata": {},
     "output_type": "display_data"
    },
    {
     "data": {
      "image/png": "[encoded data removed]",
      "text/plain": [
       "<Figure size 640x480 with 1 Axes>"
      ]
     },
     "metadata": {},
     "output_type": "display_data"
    },
    {
     "data": {
      "image/png": "[encoded data removed]",
      "text/plain": [
       "<Figure size 640x480 with 1 Axes>"
      ]
     },
     "metadata": {},
     "output_type": "display_data"
    },
    {
     "data": {
      "image/png": "[encoded data removed]",
      "text/plain": [
       "<Figure size 640x480 with 1 Axes>"
      ]
     },
     "metadata": {},
     "output_type": "display_data"
    },
    {
     "data": {
      "image/png": "[encoded data removed]",
      "text/plain": [
       "<Figure size 640x480 with 1 Axes>"
      ]
     },
     "metadata": {},
     "output_type": "display_data"
    },
    {
     "data": {
      "image/png": "[encoded data removed]",
      "text/plain": [
       "<Figure size 640x480 with 1 Axes>"
      ]
     },
     "metadata": {},
     "output_type": "display_data"
    },
    {
     "data": {
      "image/png": "[encoded data removed]",
      "text/plain": [
       "<Figure size 640x480 with 1 Axes>"
      ]
     },
     "metadata": {},
     "output_type": "display_data"
    },
    {
     "data": {
      "image/png": "[encoded data removed]",
      "text/plain": [
       "<Figure size 640x480 with 1 Axes>"
      ]
     },
     "metadata": {},
     "output_type": "display_data"
    },
    {
     "data": {
      "image/png": "[encoded data removed]",
      "text/plain": [
       "<Figure size 640x480 with 1 Axes>"
      ]
     },
     "metadata": {},
     "output_type": "display_data"
    },
    {
     "data": {
      "image/png": "[encoded data removed]",
      "text/plain": [
       "<Figure size 640x480 with 1 Axes>"
      ]
     },
     "metadata": {},
     "output_type": "display_data"
    },
    {
     "data": {
      "image/png": "[encoded data removed]",
      "text/plain": [
       "<Figure size 640x480 with 1 Axes>"
      ]
     },
     "metadata": {},
     "output_type": "display_data"
    },
    {
     "data": {
      "image/png": "[encoded data removed]",
      "text/plain": [
       "<Figure size 640x480 with 1 Axes>"
      ]
     },
     "metadata": {},
     "output_type": "display_data"
    }
   ],
   "source": [
    "# check for outliers\n",
    "for col in suicide_data.columns:\n",
    "    sns.boxplot(x=col, data=suicide_data)\n",
    "    plt.show()"
   ]
  },
  {
   "cell_type": "code",
   "execution_count": 518,
   "id": "91a3eaa5",
   "metadata": {},
   "outputs": [
    {
     "name": "stdout",
     "output_type": "stream",
     "text": [
      "high_risk\n",
      "1    13917\n",
      "0    13903\n",
      "Name: count, dtype: int64\n",
      "\n",
      "total: 27820\n"
     ]
    }
   ],
   "source": [
    "# create new dependent variable\n",
    "median = suicide_data['suicides/100k pop'].median()\n",
    "suicide_data['high_risk'] = suicide_data['suicides/100k pop'].apply(lambda x: 1 if x >= median else 0)\n",
    "suicide_data.head()\n",
    "# check for balance:\n",
    "print(suicide_data['high_risk'].value_counts())\n",
    "print('\\ntotal:', suicide_data['high_risk'].value_counts().sum())\n"
   ]
  },
  {
   "cell_type": "markdown",
   "id": "54afdb42",
   "metadata": {},
   "source": [
    "# Questions 4 and 5"
   ]
  },
  {
   "cell_type": "markdown",
   "id": "1a8b1555",
   "metadata": {},
   "source": [
    "Some features are not needed in this dataset, if we are going to use a random forrect classifier we can drop countryYear as it is a derived feature. We will also drop the suicides/100k pop as this would give away the answer to our model"
   ]
  },
  {
   "cell_type": "code",
   "execution_count": 519,
   "id": "314c9da4",
   "metadata": {},
   "outputs": [],
   "source": [
    "from sklearn.feature_selection import SelectPercentile, f_classif\n",
    "\n",
    "suicide_data_copy = suicide_data.copy()\n"
   ]
  },
  {
   "cell_type": "code",
   "execution_count": 520,
   "id": "70f57382",
   "metadata": {},
   "outputs": [
    {
     "name": "stdout",
     "output_type": "stream",
     "text": [
      "<class 'pandas.core.frame.DataFrame'>\n",
      "RangeIndex: 27820 entries, 0 to 27819\n",
      "Data columns (total 13 columns):\n",
      " #   Column              Non-Null Count  Dtype  \n",
      "---  ------              --------------  -----  \n",
      " 0   country             27820 non-null  float64\n",
      " 1   year                27820 non-null  float64\n",
      " 2   sex                 27820 non-null  float64\n",
      " 3   age                 27820 non-null  float64\n",
      " 4   suicides_no         27820 non-null  float64\n",
      " 5   population          27820 non-null  float64\n",
      " 6   suicides/100k pop   27820 non-null  float64\n",
      " 7   country-year        27820 non-null  float64\n",
      " 8   HDI for year        27820 non-null  float64\n",
      " 9    gdp_for_year ($)   27820 non-null  float64\n",
      " 10  gdp_per_capita ($)  27820 non-null  float64\n",
      " 11  generation          27820 non-null  float64\n",
      " 12  high_risk           27820 non-null  int64  \n",
      "dtypes: float64(12), int64(1)\n",
      "memory usage: 2.8 MB\n"
     ]
    }
   ],
   "source": [
    "# Convert every feature to numbers\n",
    "suicide_data_copy['generation'] = suicide_data_copy['generation'].astype(\"category\").cat.codes\n",
    "\n",
    "suicide_data_copy['sex'] = suicide_data_copy['sex'].astype(\"category\").cat.codes.astype('float')\n",
    "suicide_data_copy['country'] = suicide_data_copy['country'].astype(\"category\").cat.codes.astype('float')\n",
    "suicide_data_copy['age'] = suicide_data_copy['age'].astype(\"category\").cat.codes.astype('float')\n",
    "\n",
    "suicide_data_copy['country-year'] = suicide_data_copy['country-year'].astype(\"category\").cat.codes.astype('float')\n",
    "suicide_data_copy[' gdp_for_year ($) '] = suicide_data_copy[' gdp_for_year ($) '].astype(\"category\").cat.codes.astype('float')\n",
    "suicide_data_copy['year'] = suicide_data_copy['year'].astype(\"category\").cat.codes.astype('float')\n",
    "suicide_data_copy['suicides_no'] = suicide_data_copy['suicides_no'].astype(\"category\").cat.codes.astype('float')\n",
    "suicide_data_copy['population'] = suicide_data_copy['population'].astype(\"category\").cat.codes.astype('float')\n",
    "suicide_data_copy['gdp_per_capita ($)'] = suicide_data_copy['gdp_per_capita ($)'].astype(\"category\").cat.codes.astype('float')\n",
    "suicide_data_copy['generation'] = suicide_data_copy['generation'].astype(\"category\").cat.codes.astype('float')\n",
    "\n",
    "suicide_data_copy.info()\n"
   ]
  },
  {
   "cell_type": "markdown",
   "id": "ac078ca3",
   "metadata": {},
   "source": [
    "Remove features that cause leakeage and features that are derived"
   ]
  },
  {
   "cell_type": "code",
   "execution_count": 521,
   "id": "6c774907",
   "metadata": {},
   "outputs": [],
   "source": [
    "suicide_data_copy = suicide_data_copy.drop(columns=['suicides_no', 'suicides/100k pop', 'country-year'])"
   ]
  },
  {
   "cell_type": "code",
   "execution_count": 522,
   "id": "a04463bc",
   "metadata": {},
   "outputs": [
    {
     "data": {
      "image/png": "[encoded data removed]",
      "text/plain": [
       "<Figure size 640x480 with 1 Axes>"
      ]
     },
     "metadata": {},
     "output_type": "display_data"
    }
   ],
   "source": [
    "\n",
    "X = suicide_data_copy.loc[:, suicide_data_copy.columns != 'high_risk'].values\n",
    "y = suicide_data_copy.loc[:, suicide_data_copy.columns == 'high_risk'].values.ravel()\n",
    "\n",
    "selector = SelectPercentile(score_func=f_classif, percentile=10)\n",
    "# Fit the data\n",
    "selector.fit(X, y)\n",
    "pvals = np.where(selector.pvalues_ == 0, np.finfo(float).eps, selector.pvalues_)\n",
    "\n",
    "scores = -np.log10(pvals)\n",
    "scores /= scores.max()\n",
    "\n",
    "# Display\n",
    "cols = list(suicide_data_copy.loc[:, suicide_data_copy.columns != 'high_risk'].columns.values)\n",
    "y_pos = np.arange(len(cols))\n",
    "plt.bar(y_pos, scores)\n",
    "plt.xticks(y_pos, cols, rotation=90)\n",
    "plt.show()"
   ]
  },
  {
   "cell_type": "markdown",
   "id": "0f62b89d",
   "metadata": {},
   "source": [
    "Now that we have created our dependent variable we need to drop the other columns that we used to build it, and looking at our feature importance we can see that we can also drop year, age, and gdp_for_year "
   ]
  },
  {
   "cell_type": "code",
   "execution_count": 523,
   "id": "10c48e9c",
   "metadata": {},
   "outputs": [],
   "source": [
    "# drop the columns we used to build the dependent variable\n",
    "columns_to_drop = ['suicides/100k pop', 'suicides_no', 'country-year', 'year', ' gdp_for_year ($) ', 'age']\n",
    "suicide_data_clean = suicide_data.drop(columns=columns_to_drop)"
   ]
  },
  {
   "cell_type": "code",
   "execution_count": 524,
   "id": "261ef4f2",
   "metadata": {},
   "outputs": [],
   "source": [
    "# one hot encode the generation column\n",
    "suicide_data_clean = pd.get_dummies(suicide_data_clean, columns=['generation', 'country', 'sex'])"
   ]
  },
  {
   "cell_type": "code",
   "execution_count": 525,
   "id": "451b2aa7",
   "metadata": {},
   "outputs": [
    {
     "data": {
      "text/html": [
       "<div>\n",
       "<style scoped>\n",
       "    .dataframe tbody tr th:only-of-type {\n",
       "        vertical-align: middle;\n",
       "    }\n",
       "\n",
       "    .dataframe tbody tr th {\n",
       "        vertical-align: top;\n",
       "    }\n",
       "\n",
       "    .dataframe thead th {\n",
       "        text-align: right;\n",
       "    }\n",
       "</style>\n",
       "<table border=\"1\" class=\"dataframe\">\n",
       "  <thead>\n",
       "    <tr style=\"text-align: right;\">\n",
       "      <th></th>\n",
       "      <th>population</th>\n",
       "      <th>HDI for year</th>\n",
       "      <th>gdp_per_capita ($)</th>\n",
       "      <th>high_risk</th>\n",
       "      <th>generation_Boomers</th>\n",
       "      <th>generation_G.I. Generation</th>\n",
       "      <th>generation_Generation X</th>\n",
       "      <th>generation_Generation Z</th>\n",
       "      <th>generation_Millenials</th>\n",
       "      <th>generation_Silent</th>\n",
       "      <th>...</th>\n",
       "      <th>country_Turkey</th>\n",
       "      <th>country_Turkmenistan</th>\n",
       "      <th>country_Ukraine</th>\n",
       "      <th>country_United Arab Emirates</th>\n",
       "      <th>country_United Kingdom</th>\n",
       "      <th>country_United States</th>\n",
       "      <th>country_Uruguay</th>\n",
       "      <th>country_Uzbekistan</th>\n",
       "      <th>sex_female</th>\n",
       "      <th>sex_male</th>\n",
       "    </tr>\n",
       "  </thead>\n",
       "  <tbody>\n",
       "    <tr>\n",
       "      <th>0</th>\n",
       "      <td>312900</td>\n",
       "      <td>0.779</td>\n",
       "      <td>796</td>\n",
       "      <td>1</td>\n",
       "      <td>False</td>\n",
       "      <td>False</td>\n",
       "      <td>True</td>\n",
       "      <td>False</td>\n",
       "      <td>False</td>\n",
       "      <td>False</td>\n",
       "      <td>...</td>\n",
       "      <td>False</td>\n",
       "      <td>False</td>\n",
       "      <td>False</td>\n",
       "      <td>False</td>\n",
       "      <td>False</td>\n",
       "      <td>False</td>\n",
       "      <td>False</td>\n",
       "      <td>False</td>\n",
       "      <td>False</td>\n",
       "      <td>True</td>\n",
       "    </tr>\n",
       "    <tr>\n",
       "      <th>1</th>\n",
       "      <td>308000</td>\n",
       "      <td>0.779</td>\n",
       "      <td>796</td>\n",
       "      <td>0</td>\n",
       "      <td>False</td>\n",
       "      <td>False</td>\n",
       "      <td>False</td>\n",
       "      <td>False</td>\n",
       "      <td>False</td>\n",
       "      <td>True</td>\n",
       "      <td>...</td>\n",
       "      <td>False</td>\n",
       "      <td>False</td>\n",
       "      <td>False</td>\n",
       "      <td>False</td>\n",
       "      <td>False</td>\n",
       "      <td>False</td>\n",
       "      <td>False</td>\n",
       "      <td>False</td>\n",
       "      <td>False</td>\n",
       "      <td>True</td>\n",
       "    </tr>\n",
       "    <tr>\n",
       "      <th>2</th>\n",
       "      <td>289700</td>\n",
       "      <td>0.779</td>\n",
       "      <td>796</td>\n",
       "      <td>0</td>\n",
       "      <td>False</td>\n",
       "      <td>False</td>\n",
       "      <td>True</td>\n",
       "      <td>False</td>\n",
       "      <td>False</td>\n",
       "      <td>False</td>\n",
       "      <td>...</td>\n",
       "      <td>False</td>\n",
       "      <td>False</td>\n",
       "      <td>False</td>\n",
       "      <td>False</td>\n",
       "      <td>False</td>\n",
       "      <td>False</td>\n",
       "      <td>False</td>\n",
       "      <td>False</td>\n",
       "      <td>True</td>\n",
       "      <td>False</td>\n",
       "    </tr>\n",
       "    <tr>\n",
       "      <th>3</th>\n",
       "      <td>21800</td>\n",
       "      <td>0.779</td>\n",
       "      <td>796</td>\n",
       "      <td>0</td>\n",
       "      <td>False</td>\n",
       "      <td>True</td>\n",
       "      <td>False</td>\n",
       "      <td>False</td>\n",
       "      <td>False</td>\n",
       "      <td>False</td>\n",
       "      <td>...</td>\n",
       "      <td>False</td>\n",
       "      <td>False</td>\n",
       "      <td>False</td>\n",
       "      <td>False</td>\n",
       "      <td>False</td>\n",
       "      <td>False</td>\n",
       "      <td>False</td>\n",
       "      <td>False</td>\n",
       "      <td>False</td>\n",
       "      <td>True</td>\n",
       "    </tr>\n",
       "    <tr>\n",
       "      <th>4</th>\n",
       "      <td>274300</td>\n",
       "      <td>0.779</td>\n",
       "      <td>796</td>\n",
       "      <td>0</td>\n",
       "      <td>True</td>\n",
       "      <td>False</td>\n",
       "      <td>False</td>\n",
       "      <td>False</td>\n",
       "      <td>False</td>\n",
       "      <td>False</td>\n",
       "      <td>...</td>\n",
       "      <td>False</td>\n",
       "      <td>False</td>\n",
       "      <td>False</td>\n",
       "      <td>False</td>\n",
       "      <td>False</td>\n",
       "      <td>False</td>\n",
       "      <td>False</td>\n",
       "      <td>False</td>\n",
       "      <td>False</td>\n",
       "      <td>True</td>\n",
       "    </tr>\n",
       "  </tbody>\n",
       "</table>\n",
       "<p>5 rows × 113 columns</p>\n",
       "</div>"
      ],
      "text/plain": [
       "   population  HDI for year  gdp_per_capita ($)  high_risk  \\\n",
       "0      312900         0.779                 796          1   \n",
       "1      308000         0.779                 796          0   \n",
       "2      289700         0.779                 796          0   \n",
       "3       21800         0.779                 796          0   \n",
       "4      274300         0.779                 796          0   \n",
       "\n",
       "   generation_Boomers  generation_G.I. Generation  generation_Generation X  \\\n",
       "0               False                       False                     True   \n",
       "1               False                       False                    False   \n",
       "2               False                       False                     True   \n",
       "3               False                        True                    False   \n",
       "4                True                       False                    False   \n",
       "\n",
       "   generation_Generation Z  generation_Millenials  generation_Silent  ...  \\\n",
       "0                    False                  False              False  ...   \n",
       "1                    False                  False               True  ...   \n",
       "2                    False                  False              False  ...   \n",
       "3                    False                  False              False  ...   \n",
       "4                    False                  False              False  ...   \n",
       "\n",
       "   country_Turkey  country_Turkmenistan  country_Ukraine  \\\n",
       "0           False                 False            False   \n",
       "1           False                 False            False   \n",
       "2           False                 False            False   \n",
       "3           False                 False            False   \n",
       "4           False                 False            False   \n",
       "\n",
       "   country_United Arab Emirates  country_United Kingdom  \\\n",
       "0                         False                   False   \n",
       "1                         False                   False   \n",
       "2                         False                   False   \n",
       "3                         False                   False   \n",
       "4                         False                   False   \n",
       "\n",
       "   country_United States  country_Uruguay  country_Uzbekistan  sex_female  \\\n",
       "0                  False            False               False       False   \n",
       "1                  False            False               False       False   \n",
       "2                  False            False               False        True   \n",
       "3                  False            False               False       False   \n",
       "4                  False            False               False       False   \n",
       "\n",
       "   sex_male  \n",
       "0      True  \n",
       "1      True  \n",
       "2     False  \n",
       "3      True  \n",
       "4      True  \n",
       "\n",
       "[5 rows x 113 columns]"
      ]
     },
     "execution_count": 525,
     "metadata": {},
     "output_type": "execute_result"
    }
   ],
   "source": [
    "suicide_data_clean.head()"
   ]
  },
  {
   "cell_type": "code",
   "execution_count": 526,
   "id": "d4be4d15",
   "metadata": {},
   "outputs": [],
   "source": [
    "X = suicide_data_clean.loc[:, suicide_data_clean.columns != 'high_risk'].values\n",
    "y = suicide_data_clean.loc[:, suicide_data_clean.columns == 'high_risk'].values.ravel()"
   ]
  },
  {
   "cell_type": "code",
   "execution_count": 527,
   "id": "a323e0b4",
   "metadata": {},
   "outputs": [],
   "source": [
    "from sklearn.ensemble import RandomForestClassifier\n",
    "from sklearn.metrics import accuracy_score\n",
    "from sklearn.model_selection import KFold\n",
    "\n",
    "def rf_train_test(_X_tr, _X_ts, _y_tr, _y_ts):\n",
    "    rf = RandomForestClassifier(n_estimators=200, max_depth=5, random_state=0, n_jobs=4)\n",
    "    rf.fit(_X_tr, _y_tr)\n",
    "    y_pred = rf.predict(_X_ts)\n",
    "    return accuracy_score(_y_ts, y_pred)"
   ]
  },
  {
   "cell_type": "code",
   "execution_count": 528,
   "id": "d8e78227",
   "metadata": {},
   "outputs": [
    {
     "name": "stdout",
     "output_type": "stream",
     "text": [
      "10-fold cross-validation accuracy is 0.711 ±0.0398\n"
     ]
    }
   ],
   "source": [
    "# 10-fold cross-validation\n",
    "Accuracies = []\n",
    "kfold = KFold(n_splits=10,shuffle=False)\n",
    "for train_index, test_index in kfold.split(X, y):\n",
    "    acc = rf_train_test(X[train_index], X[test_index], y[train_index], y[test_index])\n",
    "    Accuracies += [acc]\n",
    "\n",
    "print(f'10-fold cross-validation accuracy is {np.mean(Accuracies):.3f} {chr(177)}{np.std(Accuracies):.4f}')"
   ]
  },
  {
   "cell_type": "code",
   "execution_count": 529,
   "id": "c0aa2374",
   "metadata": {},
   "outputs": [
    {
     "name": "stdout",
     "output_type": "stream",
     "text": [
      "[1 0 0 0 0 0 0 0 0 0]\n"
     ]
    }
   ],
   "source": [
    "print(y[:10])\n"
   ]
  }
 ],
 "metadata": {
  "kernelspec": {
   "display_name": ".venv",
   "language": "python",
   "name": "python3"
  },
  "language_info": {
   "codemirror_mode": {
    "name": "ipython",
    "version": 3
   },
   "file_extension": ".py",
   "mimetype": "text/x-python",
   "name": "python",
   "nbconvert_exporter": "python",
   "pygments_lexer": "ipython3",
   "version": "3.13.2"
  }
 },
 "nbformat": 4,
 "nbformat_minor": 5
}
