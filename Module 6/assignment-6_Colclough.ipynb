{
 "cells": [
  {
   "cell_type": "markdown",
   "id": "59c56c62",
   "metadata": {},
   "source": [
    "# Assignment 6"
   ]
  },
  {
   "cell_type": "code",
   "execution_count": 1,
   "id": "debc0eaf",
   "metadata": {},
   "outputs": [
    {
     "data": {
      "text/html": [
       "<div>\n",
       "<style scoped>\n",
       "    .dataframe tbody tr th:only-of-type {\n",
       "        vertical-align: middle;\n",
       "    }\n",
       "\n",
       "    .dataframe tbody tr th {\n",
       "        vertical-align: top;\n",
       "    }\n",
       "\n",
       "    .dataframe thead th {\n",
       "        text-align: right;\n",
       "    }\n",
       "</style>\n",
       "<table border=\"1\" class=\"dataframe\">\n",
       "  <thead>\n",
       "    <tr style=\"text-align: right;\">\n",
       "      <th></th>\n",
       "      <th>Age</th>\n",
       "      <th>Sex</th>\n",
       "      <th>ChestPainType</th>\n",
       "      <th>RestingBP</th>\n",
       "      <th>Cholesterol</th>\n",
       "      <th>FastingBS</th>\n",
       "      <th>RestingECG</th>\n",
       "      <th>MaxHR</th>\n",
       "      <th>ExerciseAngina</th>\n",
       "      <th>Oldpeak</th>\n",
       "      <th>ST_Slope</th>\n",
       "      <th>HeartDisease</th>\n",
       "    </tr>\n",
       "  </thead>\n",
       "  <tbody>\n",
       "    <tr>\n",
       "      <th>0</th>\n",
       "      <td>40</td>\n",
       "      <td>M</td>\n",
       "      <td>ATA</td>\n",
       "      <td>140</td>\n",
       "      <td>289</td>\n",
       "      <td>0</td>\n",
       "      <td>Normal</td>\n",
       "      <td>172</td>\n",
       "      <td>N</td>\n",
       "      <td>0.0</td>\n",
       "      <td>Up</td>\n",
       "      <td>0</td>\n",
       "    </tr>\n",
       "    <tr>\n",
       "      <th>1</th>\n",
       "      <td>49</td>\n",
       "      <td>F</td>\n",
       "      <td>NAP</td>\n",
       "      <td>160</td>\n",
       "      <td>180</td>\n",
       "      <td>0</td>\n",
       "      <td>Normal</td>\n",
       "      <td>156</td>\n",
       "      <td>N</td>\n",
       "      <td>1.0</td>\n",
       "      <td>Flat</td>\n",
       "      <td>1</td>\n",
       "    </tr>\n",
       "    <tr>\n",
       "      <th>2</th>\n",
       "      <td>37</td>\n",
       "      <td>M</td>\n",
       "      <td>ATA</td>\n",
       "      <td>130</td>\n",
       "      <td>283</td>\n",
       "      <td>0</td>\n",
       "      <td>ST</td>\n",
       "      <td>98</td>\n",
       "      <td>N</td>\n",
       "      <td>0.0</td>\n",
       "      <td>Up</td>\n",
       "      <td>0</td>\n",
       "    </tr>\n",
       "    <tr>\n",
       "      <th>3</th>\n",
       "      <td>48</td>\n",
       "      <td>F</td>\n",
       "      <td>ASY</td>\n",
       "      <td>138</td>\n",
       "      <td>214</td>\n",
       "      <td>0</td>\n",
       "      <td>Normal</td>\n",
       "      <td>108</td>\n",
       "      <td>Y</td>\n",
       "      <td>1.5</td>\n",
       "      <td>Flat</td>\n",
       "      <td>1</td>\n",
       "    </tr>\n",
       "    <tr>\n",
       "      <th>4</th>\n",
       "      <td>54</td>\n",
       "      <td>M</td>\n",
       "      <td>NAP</td>\n",
       "      <td>150</td>\n",
       "      <td>195</td>\n",
       "      <td>0</td>\n",
       "      <td>Normal</td>\n",
       "      <td>122</td>\n",
       "      <td>N</td>\n",
       "      <td>0.0</td>\n",
       "      <td>Up</td>\n",
       "      <td>0</td>\n",
       "    </tr>\n",
       "  </tbody>\n",
       "</table>\n",
       "</div>"
      ],
      "text/plain": [
       "   Age Sex ChestPainType  RestingBP  Cholesterol  FastingBS RestingECG  MaxHR  \\\n",
       "0   40   M           ATA        140          289          0     Normal    172   \n",
       "1   49   F           NAP        160          180          0     Normal    156   \n",
       "2   37   M           ATA        130          283          0         ST     98   \n",
       "3   48   F           ASY        138          214          0     Normal    108   \n",
       "4   54   M           NAP        150          195          0     Normal    122   \n",
       "\n",
       "  ExerciseAngina  Oldpeak ST_Slope  HeartDisease  \n",
       "0              N      0.0       Up             0  \n",
       "1              N      1.0     Flat             1  \n",
       "2              N      0.0       Up             0  \n",
       "3              Y      1.5     Flat             1  \n",
       "4              N      0.0       Up             0  "
      ]
     },
     "execution_count": 1,
     "metadata": {},
     "output_type": "execute_result"
    }
   ],
   "source": [
    "import pandas as pd\n",
    "# import dataset\n",
    "heart_data = pd.read_csv('./heart_dataset.csv')\n",
    "\n",
    "heart_data.head()"
   ]
  },
  {
   "cell_type": "markdown",
   "id": "05bf0c6b",
   "metadata": {},
   "source": [
    "## Data Preprocessing"
   ]
  },
  {
   "cell_type": "code",
   "execution_count": 2,
   "id": "bf929927",
   "metadata": {},
   "outputs": [
    {
     "data": {
      "text/plain": [
       "Age               0\n",
       "Sex               0\n",
       "ChestPainType     0\n",
       "RestingBP         0\n",
       "Cholesterol       0\n",
       "FastingBS         0\n",
       "RestingECG        0\n",
       "MaxHR             0\n",
       "ExerciseAngina    0\n",
       "Oldpeak           0\n",
       "ST_Slope          0\n",
       "HeartDisease      0\n",
       "dtype: int64"
      ]
     },
     "execution_count": 2,
     "metadata": {},
     "output_type": "execute_result"
    }
   ],
   "source": [
    "heart_data.isnull().sum()"
   ]
  },
  {
   "cell_type": "code",
   "execution_count": 3,
   "id": "4694ab6c",
   "metadata": {},
   "outputs": [
    {
     "name": "stdout",
     "output_type": "stream",
     "text": [
      "(918, 12)\n"
     ]
    }
   ],
   "source": [
    "print(heart_data.shape)"
   ]
  },
  {
   "cell_type": "code",
   "execution_count": 4,
   "id": "b19ceea6",
   "metadata": {},
   "outputs": [
    {
     "data": {
      "text/html": [
       "<div>\n",
       "<style scoped>\n",
       "    .dataframe tbody tr th:only-of-type {\n",
       "        vertical-align: middle;\n",
       "    }\n",
       "\n",
       "    .dataframe tbody tr th {\n",
       "        vertical-align: top;\n",
       "    }\n",
       "\n",
       "    .dataframe thead th {\n",
       "        text-align: right;\n",
       "    }\n",
       "</style>\n",
       "<table border=\"1\" class=\"dataframe\">\n",
       "  <thead>\n",
       "    <tr style=\"text-align: right;\">\n",
       "      <th></th>\n",
       "      <th>Age</th>\n",
       "      <th>RestingBP</th>\n",
       "      <th>Cholesterol</th>\n",
       "      <th>FastingBS</th>\n",
       "      <th>MaxHR</th>\n",
       "      <th>Oldpeak</th>\n",
       "      <th>HeartDisease</th>\n",
       "    </tr>\n",
       "  </thead>\n",
       "  <tbody>\n",
       "    <tr>\n",
       "      <th>count</th>\n",
       "      <td>918.000000</td>\n",
       "      <td>918.000000</td>\n",
       "      <td>918.000000</td>\n",
       "      <td>918.000000</td>\n",
       "      <td>918.000000</td>\n",
       "      <td>918.000000</td>\n",
       "      <td>918.000000</td>\n",
       "    </tr>\n",
       "    <tr>\n",
       "      <th>mean</th>\n",
       "      <td>53.510893</td>\n",
       "      <td>132.396514</td>\n",
       "      <td>198.799564</td>\n",
       "      <td>0.233115</td>\n",
       "      <td>136.809368</td>\n",
       "      <td>0.887364</td>\n",
       "      <td>0.553377</td>\n",
       "    </tr>\n",
       "    <tr>\n",
       "      <th>std</th>\n",
       "      <td>9.432617</td>\n",
       "      <td>18.514154</td>\n",
       "      <td>109.384145</td>\n",
       "      <td>0.423046</td>\n",
       "      <td>25.460334</td>\n",
       "      <td>1.066570</td>\n",
       "      <td>0.497414</td>\n",
       "    </tr>\n",
       "    <tr>\n",
       "      <th>min</th>\n",
       "      <td>28.000000</td>\n",
       "      <td>0.000000</td>\n",
       "      <td>0.000000</td>\n",
       "      <td>0.000000</td>\n",
       "      <td>60.000000</td>\n",
       "      <td>-2.600000</td>\n",
       "      <td>0.000000</td>\n",
       "    </tr>\n",
       "    <tr>\n",
       "      <th>25%</th>\n",
       "      <td>47.000000</td>\n",
       "      <td>120.000000</td>\n",
       "      <td>173.250000</td>\n",
       "      <td>0.000000</td>\n",
       "      <td>120.000000</td>\n",
       "      <td>0.000000</td>\n",
       "      <td>0.000000</td>\n",
       "    </tr>\n",
       "    <tr>\n",
       "      <th>50%</th>\n",
       "      <td>54.000000</td>\n",
       "      <td>130.000000</td>\n",
       "      <td>223.000000</td>\n",
       "      <td>0.000000</td>\n",
       "      <td>138.000000</td>\n",
       "      <td>0.600000</td>\n",
       "      <td>1.000000</td>\n",
       "    </tr>\n",
       "    <tr>\n",
       "      <th>75%</th>\n",
       "      <td>60.000000</td>\n",
       "      <td>140.000000</td>\n",
       "      <td>267.000000</td>\n",
       "      <td>0.000000</td>\n",
       "      <td>156.000000</td>\n",
       "      <td>1.500000</td>\n",
       "      <td>1.000000</td>\n",
       "    </tr>\n",
       "    <tr>\n",
       "      <th>max</th>\n",
       "      <td>77.000000</td>\n",
       "      <td>200.000000</td>\n",
       "      <td>603.000000</td>\n",
       "      <td>1.000000</td>\n",
       "      <td>202.000000</td>\n",
       "      <td>6.200000</td>\n",
       "      <td>1.000000</td>\n",
       "    </tr>\n",
       "  </tbody>\n",
       "</table>\n",
       "</div>"
      ],
      "text/plain": [
       "              Age   RestingBP  Cholesterol   FastingBS       MaxHR  \\\n",
       "count  918.000000  918.000000   918.000000  918.000000  918.000000   \n",
       "mean    53.510893  132.396514   198.799564    0.233115  136.809368   \n",
       "std      9.432617   18.514154   109.384145    0.423046   25.460334   \n",
       "min     28.000000    0.000000     0.000000    0.000000   60.000000   \n",
       "25%     47.000000  120.000000   173.250000    0.000000  120.000000   \n",
       "50%     54.000000  130.000000   223.000000    0.000000  138.000000   \n",
       "75%     60.000000  140.000000   267.000000    0.000000  156.000000   \n",
       "max     77.000000  200.000000   603.000000    1.000000  202.000000   \n",
       "\n",
       "          Oldpeak  HeartDisease  \n",
       "count  918.000000    918.000000  \n",
       "mean     0.887364      0.553377  \n",
       "std      1.066570      0.497414  \n",
       "min     -2.600000      0.000000  \n",
       "25%      0.000000      0.000000  \n",
       "50%      0.600000      1.000000  \n",
       "75%      1.500000      1.000000  \n",
       "max      6.200000      1.000000  "
      ]
     },
     "execution_count": 4,
     "metadata": {},
     "output_type": "execute_result"
    }
   ],
   "source": [
    "heart_data.describe()"
   ]
  },
  {
   "cell_type": "code",
   "execution_count": 5,
   "id": "f24aa825",
   "metadata": {},
   "outputs": [
    {
     "name": "stdout",
     "output_type": "stream",
     "text": [
      "<class 'pandas.core.frame.DataFrame'>\n",
      "RangeIndex: 918 entries, 0 to 917\n",
      "Data columns (total 12 columns):\n",
      " #   Column          Non-Null Count  Dtype  \n",
      "---  ------          --------------  -----  \n",
      " 0   Age             918 non-null    int64  \n",
      " 1   Sex             918 non-null    object \n",
      " 2   ChestPainType   918 non-null    object \n",
      " 3   RestingBP       918 non-null    int64  \n",
      " 4   Cholesterol     918 non-null    int64  \n",
      " 5   FastingBS       918 non-null    int64  \n",
      " 6   RestingECG      918 non-null    object \n",
      " 7   MaxHR           918 non-null    int64  \n",
      " 8   ExerciseAngina  918 non-null    object \n",
      " 9   Oldpeak         918 non-null    float64\n",
      " 10  ST_Slope        918 non-null    object \n",
      " 11  HeartDisease    918 non-null    int64  \n",
      "dtypes: float64(1), int64(6), object(5)\n",
      "memory usage: 86.2+ KB\n"
     ]
    }
   ],
   "source": [
    "heart_data.info()"
   ]
  },
  {
   "cell_type": "code",
   "execution_count": 6,
   "id": "876a3c06",
   "metadata": {},
   "outputs": [
    {
     "data": {
      "text/plain": [
       "(918, 20)"
      ]
     },
     "execution_count": 6,
     "metadata": {},
     "output_type": "execute_result"
    }
   ],
   "source": [
    "# Split the data into features and target\n",
    "Xdf = heart_data.drop('HeartDisease', axis=1)\n",
    "ydf = heart_data['HeartDisease']\n",
    "\n",
    "from sklearn.compose import ColumnTransformer\n",
    "from sklearn.preprocessing import OneHotEncoder\n",
    "from sklearn.pipeline import Pipeline\n",
    "\n",
    "# Specify columns to one-hot encode\n",
    "one_hot_encode_columns = ['Sex', 'ChestPainType', 'ExerciseAngina', 'RestingECG', 'ST_Slope']\n",
    "\n",
    "# Build a preprocessor that one-hot encodes the specified columns\n",
    "preprocessor = ColumnTransformer(\n",
    "    transformers=[\n",
    "        ('onehot', OneHotEncoder(), one_hot_encode_columns)\n",
    "    ],\n",
    "    remainder='passthrough'\n",
    ")\n",
    "\n",
    "# transform the data\n",
    "X_transformed = preprocessor.fit_transform(Xdf)\n",
    "\n",
    "X_transformed.shape\n"
   ]
  },
  {
   "cell_type": "markdown",
   "id": "f0c4b7a0",
   "metadata": {},
   "source": [
    "Report 10-fold cross-validation (“CV”) performances of the following types of\n",
    "classifiers, using default parameters:\n",
    "- GaussianNB\n",
    "- Linear SVC (use SVC(kernel='linear', probability=True))\n",
    "- MLPClassifier\n",
    "- DecisionTreeClassifier\n",
    "\n",
    "Now report the RandomForestClassifier performance too."
   ]
  },
  {
   "cell_type": "code",
   "execution_count": null,
   "id": "3148f30a",
   "metadata": {},
   "outputs": [
    {
     "name": "stdout",
     "output_type": "stream",
     "text": [
      "GaussianNB - Accuracy: 0.8583 (± 0.0675)\n",
      "SVC - Accuracy: 0.8627 (± 0.0587)\n",
      "MLPClassifier - Accuracy: 0.8540 (± 0.0742)\n",
      "DecisionTreeClassifier - Accuracy: 0.7952 (± 0.0831)\n",
      "RandomForestClassifier - Accuracy: 0.8913\n"
     ]
    }
   ],
   "source": [
    "# 10 fold cross validation\n",
    "from sklearn.model_selection import cross_val_score\n",
    "from sklearn.metrics import accuracy_score\n",
    "from sklearn.ensemble import RandomForestClassifier\n",
    "from sklearn.svm import SVC\n",
    "from sklearn.tree import DecisionTreeClassifier\n",
    "from sklearn.naive_bayes import GaussianNB\n",
    "from sklearn.neural_network import MLPClassifier\n",
    "from sklearn.model_selection import StratifiedKFold\n",
    "from sklearn.model_selection import train_test_split\n",
    "import numpy as np\n",
    "\n",
    "# Define the classifiers\n",
    "classifiers = [\n",
    "    GaussianNB(),\n",
    "    SVC(kernel='linear', probability=True),\n",
    "    MLPClassifier(),\n",
    "    DecisionTreeClassifier(),\n",
    "]\n",
    "\n",
    "# 10-fold CV evaluation of a classifier\n",
    "def eval_classifier(_clf, _X, _y):\n",
    "    accuracies = []\n",
    "    kf = StratifiedKFold(n_splits=10, shuffle=True, random_state=0)\n",
    "    for train_index, test_index in kf.split(_X, _y):\n",
    "        _clf.fit(_X[train_index], _y[train_index])\n",
    "        y_pred = _clf.predict(_X[test_index])\n",
    "        accuracies += [accuracy_score(_y[test_index], y_pred)]\n",
    "    return np.array(accuracies)\n",
    "\n",
    "\n",
    "for classifier in classifiers:\n",
    "    scores = eval_classifier(classifier, X_transformed, ydf)\n",
    "    print(f\"{classifier.__class__.__name__} - Accuracy: {scores.mean():.4f} ({chr(177)} {scores.std() * 2:.4f})\")\n",
    "\n",
    "# RandomForestClassifier performance\n",
    "X_train, X_test, y_train, y_test = train_test_split(X_transformed, ydf, test_size=0.2, random_state=42)\n",
    "random_forest = RandomForestClassifier()\n",
    "random_forest.fit(X_train, y_train)\n",
    "y_pred = random_forest.predict(X_test)\n",
    "accuracy = accuracy_score(y_test, y_pred)\n",
    "\n",
    "print(f\"RandomForestClassifier - Accuracy: {accuracy:.4f}\")\n",
    "\n"
   ]
  },
  {
   "cell_type": "markdown",
   "id": "75570140",
   "metadata": {},
   "source": [
    "### Ensemble Generation and Evaluation of Weak Classifiers\n",
    "\n",
    "- For each of the four basic classifiers from Q1 (GaussianNB, SVC, MLPClassifier, DecisionTreeClassifier), we generate an ensemble of 100 classifiers.\n",
    "- Each ensemble is stored as a list.\n",
    "- To create \"weak\" sub-classifiers:\n",
    "    - **Neural Network (MLPClassifier):** hidden_layer_sizes=(3, 3), max_iter=30, tol=1e-1\n",
    "    - **Decision Tree:** max_depth=5, max_features=5\n",
    "- For each ensemble, we report the performance (accuracy) of the **first** classifier in the ensemble using 10-fold cross-validation."
   ]
  },
  {
   "cell_type": "code",
   "execution_count": 8,
   "id": "c882be5a",
   "metadata": {},
   "outputs": [],
   "source": [
    "# Create a list of 100 weak classifier for each of the four basic classifiers\n",
    "# hide warnings\n",
    "import warnings\n",
    "warnings.filterwarnings('ignore')\n",
    "\n",
    "# GaussianNB \n",
    "gaussian_nb_ensemble = [GaussianNB() for _ in range(100)]\n",
    "\n",
    "# Linear SVC\n",
    "linear_svc_ensemble = [SVC(kernel='linear', probability=True) for _ in range(100)]\n",
    "\n",
    "# MLPClassifier\n",
    "mlp_classifier_ensemble = [MLPClassifier(hidden_layer_sizes=(3, 3), max_iter=30, tol=1e-1) for _ in range(100)]\n",
    "\n",
    "# DecisionTreeClassifier\n",
    "decision_tree_ensemble = [DecisionTreeClassifier(max_depth=5, max_features=5) for _ in range(100)]\n",
    "\n",
    "# Report the performance of the first classifier in the ensemble \n",
    "def report_performance(ensemble, name):\n",
    "    scores = cross_val_score(ensemble, X_transformed, ydf, cv=10)\n",
    "    print(f\"{name} - Accuracy: {scores.mean():.4f} (+/- {scores.std() * 2:.4f})\")\n"
   ]
  },
  {
   "cell_type": "code",
   "execution_count": 9,
   "id": "6fe407c4",
   "metadata": {},
   "outputs": [
    {
     "name": "stdout",
     "output_type": "stream",
     "text": [
      "GaussianNB - Accuracy: 0.8518 (+/- 0.1030)\n"
     ]
    }
   ],
   "source": [
    "report_performance(gaussian_nb_ensemble[0], \"GaussianNB\")"
   ]
  },
  {
   "cell_type": "code",
   "execution_count": 10,
   "id": "6f9b23d6",
   "metadata": {},
   "outputs": [
    {
     "name": "stdout",
     "output_type": "stream",
     "text": [
      "Linear SVC - Accuracy: 0.8462 (+/- 0.1188)\n"
     ]
    }
   ],
   "source": [
    "report_performance(linear_svc_ensemble[0], \"Linear SVC\")"
   ]
  },
  {
   "cell_type": "code",
   "execution_count": 11,
   "id": "9277cfe5",
   "metadata": {},
   "outputs": [
    {
     "name": "stdout",
     "output_type": "stream",
     "text": [
      "MLPClassifier - Accuracy: 0.4892 (+/- 0.1665)\n"
     ]
    }
   ],
   "source": [
    "report_performance(mlp_classifier_ensemble[0], \"MLPClassifier\")"
   ]
  },
  {
   "cell_type": "code",
   "execution_count": 12,
   "id": "3e8becbc",
   "metadata": {},
   "outputs": [
    {
     "name": "stdout",
     "output_type": "stream",
     "text": [
      "DecisionTreeClassifier - Accuracy: 0.8212 (+/- 0.1182)\n"
     ]
    }
   ],
   "source": [
    "report_performance(decision_tree_ensemble[0], \"DecisionTreeClassifier\")"
   ]
  },
  {
   "cell_type": "markdown",
   "id": "b1563944",
   "metadata": {},
   "source": [
    "Write a function `ensemble_fit()` to receive the ensemble (i.e. one of the 4 lists from Q2.) as an input and train it on one of the subsets (i.e. bagging) of the training data. (Hint: `random.sample` could generate the subset of data you’ll need.) This way, each classifier will see only a different subset of the training dataset, also called as subsampling the input data for training. Use all features in these subsamples; only subsample the rows/observations."
   ]
  },
  {
   "cell_type": "code",
   "execution_count": 13,
   "id": "14c4b688",
   "metadata": {},
   "outputs": [],
   "source": [
    "def ensemble_fit(ensemble, X_train, y_train, subsample_ratio=0.7):\n",
    "    from sklearn.model_selection import StratifiedShuffleSplit\n",
    "    import numpy as np\n",
    "\n",
    "    if not (0 < subsample_ratio <= 1):\n",
    "        raise ValueError(\"subsample_ratio must be in (0, 1].\")\n",
    "\n",
    "    y_array = np.array(y_train)\n",
    "    fitted_ensembles = []\n",
    "\n",
    "    # Train each classifier in the ensemble on a different subset\n",
    "    for classifier in ensemble:\n",
    "        # use stratified shuffle split to guarentee class proportions are preserved\n",
    "        # I was running into errors using random.sample\n",
    "        sss = StratifiedShuffleSplit(n_splits=1, train_size=subsample_ratio, random_state=None)\n",
    "        train_idx, _ = next(sss.split(X_train, y_array))\n",
    "\n",
    "        X_subset = X_train[train_idx]\n",
    "        y_subset = y_array[train_idx]\n",
    "\n",
    "        classifier.fit(X_subset, y_subset)\n",
    "        fitted_ensembles.append(classifier)\n",
    "\n",
    "    return fitted_ensembles"
   ]
  },
  {
   "cell_type": "markdown",
   "id": "fde0050f",
   "metadata": {},
   "source": [
    "Write a function `ensemble_predict()` to receive the trained ensemble (i.e. one of the lists from Q3.) as input and output a prediction for a given observation.\n",
    "\n",
    "Since each sub-classifier will have its own prediction, use a voting scheme on the returned predictions.\n",
    "\n",
    "(Hint: The final prediction should be the `np.argmax()` of the votes, not merely a “max”. Note that `c.predict_proba()` should have better results.)\n"
   ]
  },
  {
   "cell_type": "code",
   "execution_count": null,
   "id": "644fbed8",
   "metadata": {},
   "outputs": [],
   "source": [
    "def ensemble_predict(ensemble, X_test):\n",
    "    # Collect probability predictions from all classifiers\n",
    "    all_probas = []\n",
    "    for classifier in ensemble:\n",
    "        probas = classifier.predict_proba(X_test)\n",
    "        all_probas.append(probas)\n",
    "    \n",
    "    # Sum up probabilities across classifiers \n",
    "    summed_probas = np.sum(all_probas, axis=0)\n",
    "    \n",
    "    # Get class with highest total probability for each observation\n",
    "    predictions = np.argmax(summed_probas, axis=1)\n",
    "    \n",
    "    return predictions   "
   ]
  },
  {
   "cell_type": "code",
   "execution_count": 15,
   "id": "5ea4f9bc",
   "metadata": {},
   "outputs": [
    {
     "data": {
      "text/plain": [
       "array([0, 1, 1, 1, 0, 1, 1, 0, 0, 1, 0, 0, 0, 0, 1, 1, 0, 1, 1, 0, 1, 1,\n",
       "       0, 1, 1, 1, 0, 1, 0, 0, 1, 0, 1, 1, 1, 1, 1, 0, 1, 1, 1, 1, 1, 0,\n",
       "       0, 1, 1, 1, 1, 0, 0, 0, 1, 1, 1, 0, 0, 1, 1, 1, 0, 0, 0, 1, 0, 1,\n",
       "       1, 1, 1, 0, 0, 0, 1, 0, 0, 1, 0, 0, 0, 1, 0, 1, 1, 0, 1, 1, 0, 1,\n",
       "       0, 0, 0, 1, 1, 0, 0, 0, 1, 0, 1, 1, 0, 1, 1, 0, 1, 1, 0, 1, 1, 0,\n",
       "       1, 1, 0, 0, 1, 0, 1, 0, 1, 0, 1, 1, 0, 1, 0, 0, 0, 0, 0, 0, 0, 1,\n",
       "       1, 0, 1, 0, 1, 1, 0, 1, 0, 0, 1, 1, 1, 1, 0, 0, 0, 0, 0, 1, 1, 0,\n",
       "       1, 0, 0, 0, 0, 1, 0, 0, 1, 0, 1, 1, 1, 1, 0, 0, 1, 1, 0, 1, 0, 1,\n",
       "       1, 1, 0, 0, 1, 1, 0, 1])"
      ]
     },
     "execution_count": 15,
     "metadata": {},
     "output_type": "execute_result"
    }
   ],
   "source": [
    "# test the ensemble_predict function for sanity\n",
    "gaussian_nb_fitted_ensemble = ensemble_fit(gaussian_nb_ensemble, X_train, y_train)\n",
    "ensemble_predict(gaussian_nb_fitted_ensemble, X_test)"
   ]
  },
  {
   "cell_type": "markdown",
   "id": "58b81df3",
   "metadata": {},
   "source": [
    "Report 10-fold CV performances of the ensembles with a subsample ratio of 0.2.\n",
    "Compare to a regular decision tree (same subsample ratio).\n",
    "Now repeat these for a subsample ratio of 0.05."
   ]
  },
  {
   "cell_type": "code",
   "execution_count": 16,
   "id": "ed4c0169",
   "metadata": {},
   "outputs": [],
   "source": [
    "# cross validation for the ensembles\n",
    "def cross_val_performance(ensemble, X, y, subsample_ratio=0.2, n_splits=10):\n",
    "    from sklearn.base import clone\n",
    "    from sklearn.metrics import accuracy_score\n",
    "    \n",
    "    accuracies = []\n",
    "    kf = StratifiedKFold(n_splits=n_splits, shuffle=True, random_state=0)\n",
    "    \n",
    "    for train_index, test_index in kf.split(X, y):\n",
    "        X_train_fold, X_test_fold = X[train_index], X[test_index]\n",
    "        y_train_fold, y_test_fold = y.iloc[train_index], y.iloc[test_index]\n",
    "        \n",
    "        ensemble_fold = [clone(clf) for clf in ensemble]\n",
    "        \n",
    "        fitted_ensemble = ensemble_fit(ensemble_fold, X_train_fold, y_train_fold, subsample_ratio)\n",
    "        \n",
    "        # Predict on the test data\n",
    "        y_pred = ensemble_predict(fitted_ensemble, X_test_fold)\n",
    "        \n",
    "        # Calculate accuracy\n",
    "        acc = accuracy_score(y_test_fold, y_pred)\n",
    "        accuracies.append(acc)\n",
    "        \n",
    "    return np.array(accuracies)"
   ]
  },
  {
   "cell_type": "code",
   "execution_count": 17,
   "id": "52fee1c3",
   "metadata": {},
   "outputs": [
    {
     "name": "stdout",
     "output_type": "stream",
     "text": [
      "================================================================================\n",
      "10-FOLD CV PERFORMANCE WITH SUBSAMPLE RATIO = 0.2\n",
      "================================================================================\n",
      "GaussianNB Ensemble (subsample=0.2) - Accuracy: 0.8605 (+/- 0.0715)\n",
      "Linear SVC Ensemble (subsample=0.2) - Accuracy: 0.8671 (+/- 0.0578)\n",
      "MLPClassifier Ensemble (subsample=0.2) - Accuracy: 0.5545 (+/- 0.1192)\n",
      "DecisionTree Ensemble (subsample=0.2) - Accuracy: 0.8661 (+/- 0.0796)\n"
     ]
    }
   ],
   "source": [
    "print(\"=\"*80)\n",
    "print(\"10-FOLD CV PERFORMANCE WITH SUBSAMPLE RATIO = 0.2\")\n",
    "print(\"=\"*80)\n",
    "\n",
    "# Test each ensemble with subsample ratio 0.2\n",
    "ensembles = {\n",
    "    'GaussianNB': gaussian_nb_ensemble,\n",
    "    'Linear SVC': linear_svc_ensemble,\n",
    "    'MLPClassifier': mlp_classifier_ensemble,\n",
    "    'DecisionTree': decision_tree_ensemble\n",
    "}\n",
    "\n",
    "for name, ensemble in ensembles.items():\n",
    "    scores = cross_val_performance(ensemble, X_transformed, ydf, subsample_ratio=0.2)\n",
    "    print(f\"{name} Ensemble (subsample=0.2) - Accuracy: {scores.mean():.4f} (+/- {scores.std() * 2:.4f})\")\n"
   ]
  },
  {
   "cell_type": "code",
   "execution_count": 18,
   "id": "be837fd2",
   "metadata": {},
   "outputs": [
    {
     "name": "stdout",
     "output_type": "stream",
     "text": [
      "\n",
      "Single Decision Tree (subsample=0.2) - Accuracy: 0.8061 (± 0.0786)\n",
      "\n",
      "================================================================================\n"
     ]
    }
   ],
   "source": [
    "# Compare to a regular decision tree with subsample ratio 0.2\n",
    "single_dt_ensemble = [DecisionTreeClassifier(max_depth=5, max_features=5)]\n",
    "scores_dt = cross_val_performance(single_dt_ensemble, X_transformed, ydf, subsample_ratio=0.2)\n",
    "print(f\"\\nSingle Decision Tree (subsample=0.2) - Accuracy: {scores_dt.mean():.4f} ({chr(177)} {scores_dt.std() * 2:.4f})\")\n",
    "print(\"\\n\" + \"=\"*80)\n"
   ]
  },
  {
   "cell_type": "code",
   "execution_count": 19,
   "id": "d50636ca",
   "metadata": {},
   "outputs": [
    {
     "name": "stdout",
     "output_type": "stream",
     "text": [
      "================================================================================\n",
      "10-FOLD CV PERFORMANCE WITH SUBSAMPLE RATIO = 0.05\n",
      "================================================================================\n",
      "GaussianNB Ensemble (subsample=0.05) - Accuracy: 0.8572 (± 0.0739)\n",
      "Linear SVC Ensemble (subsample=0.05) - Accuracy: 0.8628 (± 0.0626)\n",
      "MLPClassifier Ensemble (subsample=0.05) - Accuracy: 0.5513 (± 0.1283)\n",
      "DecisionTree Ensemble (subsample=0.05) - Accuracy: 0.8639 (± 0.0812)\n"
     ]
    }
   ],
   "source": [
    "print(\"=\"*80)\n",
    "print(\"10-FOLD CV PERFORMANCE WITH SUBSAMPLE RATIO = 0.05\")\n",
    "print(\"=\"*80)\n",
    "\n",
    "# Test each ensemble with subsample ratio 0.05\n",
    "for name, ensemble in ensembles.items():\n",
    "    scores = cross_val_performance(ensemble, X_transformed, ydf, subsample_ratio=0.05)\n",
    "    print(f\"{name} Ensemble (subsample=0.05) - Accuracy: {scores.mean():.4f} ({chr(177)} {scores.std() * 2:.4f})\")\n"
   ]
  },
  {
   "cell_type": "code",
   "execution_count": 20,
   "id": "327c77b6",
   "metadata": {},
   "outputs": [
    {
     "name": "stdout",
     "output_type": "stream",
     "text": [
      "\n",
      "Single Decision Tree (subsample=0.05) - Accuracy: 0.7265 (± 0.1731)\n",
      "\n",
      "================================================================================\n"
     ]
    }
   ],
   "source": [
    "# Compare to a regular decision tree with subsample ratio 0.05\n",
    "scores_dt_005 = cross_val_performance(single_dt_ensemble, X_transformed, ydf, subsample_ratio=0.05)\n",
    "print(f\"\\nSingle Decision Tree (subsample=0.05) - Accuracy: {scores_dt_005.mean():.4f} ({chr(177)} {scores_dt_005.std() * 2:.4f})\")\n",
    "print(\"\\n\" + \"=\"*80)\n"
   ]
  },
  {
   "cell_type": "markdown",
   "id": "6906f845",
   "metadata": {},
   "source": [
    "## Questions 6 and 7\n",
    "\n",
    "6. [10 pts] Report the 10-fold CV performances of the ensembles for the training subsample ratios of (0.005, 0.01, 0.03, 0.05, 0.1, 0.2). Now train regular versions of those 4 classifiers and report their performance. (Hint: pass the regular classifier to the same ensemble CV in a list of one element. This way, the same script can be used for this entire step)\n",
    "\n",
    "7. [10 pts] For each of the 4 types of classifier, plot the performances of the ensemble at the different subsample ratios and the performances of the regular classifier at the different subsample ratios on the same plot. Thus, you should have 4 plots, one for each type of classifier. To make it graphically clear which performances are ensemble vs. regular, plotting in 2 different colors is recommended.\n",
    "\n",
    "Report your detailed observations.\n"
   ]
  },
  {
   "cell_type": "code",
   "execution_count": 21,
   "id": "babcf645",
   "metadata": {},
   "outputs": [
    {
     "name": "stdout",
     "output_type": "stream",
     "text": [
      "\n",
      "\n",
      "================================================================================\n",
      "Classifier: GaussianNB\n",
      "================================================================================\n",
      "Ensemble (subsample=0.005) - Accuracy: 0.8540 (± 0.0666)\n",
      "Regular (subsample=0.005) - Accuracy: 0.7002 (± 0.2309)\n",
      "Ensemble (subsample=0.01) - Accuracy: 0.8530 (± 0.0668)\n",
      "Regular (subsample=0.01) - Accuracy: 0.7942 (± 0.1132)\n",
      "Ensemble (subsample=0.03) - Accuracy: 0.8561 (± 0.0684)\n",
      "Regular (subsample=0.03) - Accuracy: 0.7658 (± 0.1424)\n",
      "Ensemble (subsample=0.05) - Accuracy: 0.8507 (± 0.0678)\n",
      "Regular (subsample=0.05) - Accuracy: 0.8028 (± 0.0494)\n",
      "Ensemble (subsample=0.1) - Accuracy: 0.8562 (± 0.0681)\n",
      "Regular (subsample=0.1) - Accuracy: 0.8365 (± 0.0758)\n",
      "Ensemble (subsample=0.2) - Accuracy: 0.8573 (± 0.0705)\n",
      "Regular (subsample=0.2) - Accuracy: 0.8508 (± 0.0664)\n",
      "\n",
      "\n",
      "================================================================================\n",
      "Classifier: Linear SVC\n",
      "================================================================================\n",
      "Ensemble (subsample=0.005) - Accuracy: 0.4662 (± 0.0643)\n",
      "Regular (subsample=0.005) - Accuracy: 0.5052 (± 0.2093)\n",
      "Ensemble (subsample=0.01) - Accuracy: 0.6394 (± 0.1171)\n",
      "Regular (subsample=0.01) - Accuracy: 0.4978 (± 0.2868)\n",
      "Ensemble (subsample=0.03) - Accuracy: 0.8465 (± 0.0661)\n",
      "Regular (subsample=0.03) - Accuracy: 0.7539 (± 0.1454)\n",
      "Ensemble (subsample=0.05) - Accuracy: 0.8551 (± 0.0617)\n",
      "Regular (subsample=0.05) - Accuracy: 0.7821 (± 0.1092)\n",
      "Ensemble (subsample=0.1) - Accuracy: 0.8704 (± 0.0531)\n",
      "Regular (subsample=0.1) - Accuracy: 0.8160 (± 0.1089)\n",
      "Ensemble (subsample=0.2) - Accuracy: 0.8682 (± 0.0621)\n",
      "Regular (subsample=0.2) - Accuracy: 0.8301 (± 0.0783)\n",
      "\n",
      "\n",
      "================================================================================\n",
      "Classifier: MLPClassifier\n",
      "================================================================================\n",
      "Ensemble (subsample=0.005) - Accuracy: 0.4784 (± 0.1259)\n",
      "Regular (subsample=0.005) - Accuracy: 0.6177 (± 0.1328)\n",
      "Ensemble (subsample=0.01) - Accuracy: 0.5055 (± 0.0995)\n",
      "Regular (subsample=0.01) - Accuracy: 0.6754 (± 0.1626)\n",
      "Ensemble (subsample=0.03) - Accuracy: 0.5479 (± 0.0687)\n",
      "Regular (subsample=0.03) - Accuracy: 0.7278 (± 0.1443)\n",
      "Ensemble (subsample=0.05) - Accuracy: 0.5456 (± 0.0897)\n",
      "Regular (subsample=0.05) - Accuracy: 0.7734 (± 0.0964)\n",
      "Ensemble (subsample=0.1) - Accuracy: 0.5174 (± 0.1468)\n",
      "Regular (subsample=0.1) - Accuracy: 0.7876 (± 0.1814)\n",
      "Ensemble (subsample=0.2) - Accuracy: 0.5438 (± 0.1677)\n",
      "Regular (subsample=0.2) - Accuracy: 0.8344 (± 0.0749)\n",
      "\n",
      "\n",
      "================================================================================\n",
      "Classifier: DecisionTree\n",
      "================================================================================\n",
      "Ensemble (subsample=0.005) - Accuracy: 0.8290 (± 0.0614)\n",
      "Regular (subsample=0.005) - Accuracy: 0.6133 (± 0.2606)\n",
      "Ensemble (subsample=0.01) - Accuracy: 0.8388 (± 0.0795)\n",
      "Regular (subsample=0.01) - Accuracy: 0.7220 (± 0.2043)\n",
      "Ensemble (subsample=0.03) - Accuracy: 0.8584 (± 0.0878)\n",
      "Regular (subsample=0.03) - Accuracy: 0.7475 (± 0.1394)\n",
      "Ensemble (subsample=0.05) - Accuracy: 0.8617 (± 0.0810)\n",
      "Regular (subsample=0.05) - Accuracy: 0.7561 (± 0.1661)\n",
      "Ensemble (subsample=0.1) - Accuracy: 0.8671 (± 0.0760)\n",
      "Regular (subsample=0.1) - Accuracy: 0.7517 (± 0.1000)\n",
      "Ensemble (subsample=0.2) - Accuracy: 0.8693 (± 0.0786)\n",
      "Regular (subsample=0.2) - Accuracy: 0.7637 (± 0.0781)\n"
     ]
    }
   ],
   "source": [
    "import numpy as np\n",
    "import matplotlib.pyplot as plt\n",
    "\n",
    "subsample_ratios = [0.005, 0.01, 0.03, 0.05, 0.1, 0.2]\n",
    "\n",
    "single_classifiers = {\n",
    "    'GaussianNB': [GaussianNB()],\n",
    "    'Linear SVC': [SVC(kernel='linear', probability=True)],\n",
    "    'MLPClassifier': [MLPClassifier()],\n",
    "    'DecisionTree': [DecisionTreeClassifier()]\n",
    "}\n",
    "\n",
    "\n",
    "results = {}\n",
    "ordered_names = ['GaussianNB', 'Linear SVC', 'MLPClassifier', 'DecisionTree']\n",
    "\n",
    "for name in ordered_names:\n",
    "    print(\"\\n\")\n",
    "\n",
    "    print(\"=\"*80)\n",
    "    print(f\"Classifier: {name}\")\n",
    "    print(\"=\"*80)\n",
    "    ensemble_means, ensemble_errs = [], []\n",
    "    single_means, single_errs = [], []\n",
    "    for ratio in subsample_ratios:\n",
    "        score_ensemble = cross_val_performance(ensembles[name], X_transformed, ydf, subsample_ratio=ratio)\n",
    "        ensemble_means.append(np.mean(score_ensemble))\n",
    "        ensemble_errs.append(np.std(score_ensemble))\n",
    "\n",
    "        # Single Classifiers\n",
    "        scores_single = cross_val_performance(single_classifiers[name], X_transformed, ydf, subsample_ratio=ratio)\n",
    "        single_means.append(np.mean(scores_single))\n",
    "        single_errs.append(np.std(scores_single))\n",
    "\n",
    "        print(f\"Ensemble (subsample={ratio}) - Accuracy: {np.mean(score_ensemble):.4f} ({chr(177)} {np.std(score_ensemble) * 2:.4f})\")\n",
    "        print(f\"Regular (subsample={ratio}) - Accuracy: {np.mean(scores_single):.4f} ({chr(177)} {np.std(scores_single) * 2:.4f})\")\n",
    "\n",
    "    results[name] = {\n",
    "        'ensemble_accuracy': np.array(ensemble_means),\n",
    "        'ensemble_error': np.array(ensemble_errs),\n",
    "        'single_accuracy': np.array(single_means),\n",
    "        'single_error': np.array(single_errs),\n",
    "    }"
   ]
  },
  {
   "cell_type": "code",
   "execution_count": 22,
   "id": "f9a213e8",
   "metadata": {},
   "outputs": [
    {
     "data": {
      "image/png": "[encoded data removed]",
      "text/plain": [
       "<Figure size 1200x800 with 4 Axes>"
      ]
     },
     "metadata": {},
     "output_type": "display_data"
    }
   ],
   "source": [
    "# Plot results\n",
    "\n",
    "fig, axes = plt.subplots(2, 2, figsize=(12, 8), sharex=True, sharey=True)\n",
    "for ax, name in zip(axes.flat, ordered_names):\n",
    "    r = results[name]\n",
    "    ax.errorbar(subsample_ratios, r['ensemble_accuracy'], yerr=r['ensemble_error'], label='Ensemble', marker='o', color='C0', linestyle='-')\n",
    "    ax.errorbar(subsample_ratios, r['single_accuracy'], yerr=r['single_error'], label='Regular', marker='s', color='C1', linestyle='--')\n",
    "    ax.set_title(name)\n",
    "    ax.set_xlabel('Subsample ratio')\n",
    "    ax.set_ylabel('Accuracy')\n",
    "    ax.grid(True, alpha=0.3)\n",
    "    ax.legend()\n",
    "fig.suptitle('10-fold CV Accuracy vs Subsample Ratio (Ensemble vs Regular)', y=1.02, fontsize=12)\n",
    "plt.tight_layout()\n",
    "plt.show()\n"
   ]
  },
  {
   "cell_type": "markdown",
   "id": "352c900d",
   "metadata": {},
   "source": [
    "Across models, ensembling helps when it reduces variance without adding bias. GaussianNB’s ensemble is very stable at roughly 0.85–0.86 across all subsample ratios, whereas the single model is far less reliable on tiny subsets (≈0.70 at 0.005) and gradually approaches the ensemble as more data is available (≈0.85 at 0.2). Decision trees are a classic example of bagging. The ensemble is strong and remarkably steady (≈0.83–0.87) with smaller error bars, clearly outperforming a single tree at every ratio (the single ranges ≈0.61–0.76). These gains are consistent with high‑variance base learners benefiting from averaging many models trained on different row subsamples.\n",
    "\n",
    "Two interesting contrasts are Linear SVC and MLP. With the updated results, the Linear SVC ensemble improves rapidly with more data per base learner and surpasses the regular SVC at every practical ratio (ensemble ≈0.85–0.87 for ratios ≥0.03 vs single ≈0.75–0.83), indicating effective variance reduction and stabilization from probability averaging once each base SVC is sufficiently trained. By contrast, the intentionally underpowered MLP remains bias‑limited. The single model climbs with more data (up to ≈0.83 at 0.2), but the ensemble lingers around 0.54–0.55 across ratios. Averaging many weak, underfit networks cannot recover lost signal. Overall, bagging helps most for high‑variance learners or when probability averaging stabilizes small‑sample estimates, but it is not a remedy for underfitting."
   ]
  }
 ],
 "metadata": {
  "kernelspec": {
   "display_name": ".venv",
   "language": "python",
   "name": "python3"
  },
  "language_info": {
   "codemirror_mode": {
    "name": "ipython",
    "version": 3
   },
   "file_extension": ".py",
   "mimetype": "text/x-python",
   "name": "python",
   "nbconvert_exporter": "python",
   "pygments_lexer": "ipython3",
   "version": "3.13.2"
  }
 },
 "nbformat": 4,
 "nbformat_minor": 5
}
